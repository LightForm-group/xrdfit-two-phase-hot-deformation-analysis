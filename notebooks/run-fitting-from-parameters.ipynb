{
 "cells": [
  {
   "cell_type": "markdown",
   "metadata": {},
   "source": [
    "This notebook reads in peak parameters from a file and runs an experiment.\n",
    "\n",
    "## Imports"
   ]
  },
  {
   "cell_type": "code",
   "execution_count": 1,
   "metadata": {
    "scrolled": false
   },
   "outputs": [],
   "source": [
    "import pathlib\n",
    "\n",
    "from xrdfit.spectrum_fitting import PeakParams, FitExperiment, peak_params_from_dict\n",
    "import yaml\n",
    "\n",
    "import analysis_functions as analysis\n",
    "\n",
    "%load_ext autoreload\n",
    "%autoreload 2"
   ]
  },
  {
   "cell_type": "markdown",
   "metadata": {},
   "source": [
    "## Run a single refinement"
   ]
  },
  {
   "cell_type": "markdown",
   "metadata": {},
   "source": [
    "User inputs:"
   ]
  },
  {
   "cell_type": "code",
   "execution_count": 21,
   "metadata": {},
   "outputs": [],
   "source": [
    "# to load Diamond 2017 data\n",
    "# config_path = \"../yaml/adc_065_TI64_NDload_900C_15mms_00001_params.yaml\"\n",
    "config_path = \"../yaml/desy_2020_experiment18b_stage_5.yaml\"\n",
    "# config_path = \"../yaml/desy_2020_experiment16.yaml\"\n",
    "config = analysis.get_config(config_path)"
   ]
  },
  {
   "cell_type": "code",
   "execution_count": 22,
   "metadata": {
    "scrolled": true
   },
   "outputs": [
    {
     "name": "stdout",
     "output_type": "stream",
     "text": [
      "The path to the data file is: \n",
      "../../../SXRD_analysis/desy_2020/experiment18b-deformation/caking/Ti64_Rolled_TD_Compress_910C_1-00s-1_Multi-Hit_Temp_Cycl_4Cs-1_810_Cool_4Cs-1_b_5-{:05d}.dat\n",
      "\n",
      "The angle of the first cake is: \n",
      "90\n",
      "\n",
      "The cakes chosen for the fitting are: \n",
      "[72, 1, 2, 36, 37, 38]\n",
      "\n",
      "The frame time is: \n",
      "0.1\n",
      "\n",
      "Cakes WILL NOT be merged.\n",
      "\n",
      "Fits WILL be reused.\n",
      "\n",
      "The maximum frame number is: \n",
      "2275\n",
      "\n",
      "Frame intervals ARE NOT being used.\n",
      "\n",
      "The peak parameters are: \n",
      "[<PeakParams((2.67, 2.95), maxima: ['(10-10)'])>, maxima bounds: [(2.67, 2.95)])]\n",
      "\n",
      "Processing 2274 diffraction patterns.\n"
     ]
    },
    {
     "data": {
      "application/vnd.jupyter.widget-view+json": {
       "model_id": "faa8856778054d44b96d190b5479eeeb",
       "version_major": 2,
       "version_minor": 0
      },
      "text/plain": [
       "  0%|          | 0/2274 [00:00<?, ?it/s]"
      ]
     },
     "metadata": {},
     "output_type": "display_data"
    },
    {
     "name": "stdout",
     "output_type": "stream",
     "text": [
      "Analysis complete.\n",
      "The following fits took over 500 fitting iterations. The quality of these fits should be checked.\n",
      "3.9% of fits for peak (10-10)\n"
     ]
    }
   ],
   "source": [
    "data_file = config[\"data_file\"]\n",
    "print(\"The path to the data file is: \", data_file, sep='\\n', end='\\n\\n')\n",
    "\n",
    "first_cake_angle = config[\"first_cake_angle\"]\n",
    "print(\"The angle of the first cake is: \", first_cake_angle, sep='\\n', end='\\n\\n')\n",
    "\n",
    "cakes_to_fit = config[\"cakes_to_fit\"]\n",
    "print(\"The cakes chosen for the fitting are: \", cakes_to_fit, sep='\\n', end='\\n\\n')\n",
    "\n",
    "frame_time = config[\"frame_time\"]\n",
    "print(\"The frame time is: \", frame_time, sep='\\n', end='\\n\\n')\n",
    "\n",
    "merge_cakes = config[\"merge_cakes\"]\n",
    "if merge_cakes:\n",
    "    print(\"Cakes WILL be merged.\", sep='\\n', end='\\n\\n')\n",
    "if not merge_cakes:\n",
    "    print(\"Cakes WILL NOT be merged.\", sep='\\n', end='\\n\\n')\n",
    "\n",
    "reuse_fits = config[\"reuse_fits\"]\n",
    "if reuse_fits:\n",
    "    print(\"Fits WILL be reused.\", sep='\\n', end='\\n\\n')\n",
    "if not reuse_fits:\n",
    "    print(\"Fits WILL NOT be reused\", sep='\\n', end='\\n\\n')\n",
    "\n",
    "frame_max = config[\"frame_max\"]\n",
    "print(\"The maximum frame number is: \", frame_max, sep='\\n', end='\\n\\n')\n",
    "\n",
    "frame_interval = config[\"frame_interval\"]\n",
    "\n",
    "if frame_interval:\n",
    "    print(\"Frame intervals ARE being used for the heating, deformation and cooling stages.\", end='\\n\\n')\n",
    "    \n",
    "    deform_start = config[\"deform_start\"]\n",
    "    print(\"The deformation starts at frame number: \", deform_start, sep='\\n', end='\\n\\n')\n",
    "\n",
    "    deform_end = config[\"deform_end\"]\n",
    "    print(\"The deformation ends at frame number: \", deform_end, sep='\\n', end='\\n\\n')\n",
    "    \n",
    "    frame_interval_initial = config[\"frame_interval_initial\"]\n",
    "    print(\"The frame interval during heating is: \", frame_interval_initial, sep='\\n', end='\\n\\n')          \n",
    "\n",
    "    frame_interval_deform = config[\"frame_interval_deform\"]\n",
    "    print(\"The frame interval during deformation is: \", frame_interval_deform, sep='\\n', end='\\n\\n')  \n",
    "\n",
    "    frame_interval_end =  config[\"frame_interval_end\"]\n",
    "    print(\"The frame interval during cooling is: \", frame_interval_end, sep='\\n', end='\\n\\n')\n",
    "    \n",
    "    # define which frames to fit\n",
    "    initial_steps = list(range(1, deform_start, frame_interval_initial))\n",
    "    deform_steps = list(range(deform_start, deform_end, frame_interval_deform))\n",
    "    end_steps = list(range(deform_end, frame_max, frame_interval_end))\n",
    "    frames_to_fit = initial_steps + deform_steps + end_steps\n",
    "    \n",
    "if not frame_interval:\n",
    "    print(\"Frame intervals ARE NOT being used.\", end='\\n\\n')\n",
    "    frames_to_fit = list(range(1,frame_max,1))\n",
    "\n",
    "peak_params = peak_params_from_dict(config['peak_params'])\n",
    "print(\"The peak parameters are: \", peak_params, sep='\\n', end='\\n\\n')\n",
    "\n",
    "experiment = FitExperiment(frame_time, data_file, first_cake_angle, cakes_to_fit, \n",
    "                           peak_params, merge_cakes, frames_to_fit)\n",
    "\n",
    "# reuse fits for multiple peaks\n",
    "experiment.run_analysis(reuse_fits)"
   ]
  },
  {
   "cell_type": "markdown",
   "metadata": {},
   "source": [
    "Check the fittings:"
   ]
  },
  {
   "cell_type": "code",
   "execution_count": 23,
   "metadata": {},
   "outputs": [
    {
     "data": {
      "image/png": "[encoded data removed]",
      "text/plain": [
       "<Figure size 432x288 with 1 Axes>"
      ]
     },
     "metadata": {
      "needs_background": "light"
     },
     "output_type": "display_data"
    },
    {
     "name": "stderr",
     "output_type": "stream",
     "text": [
      "WARNING:root:Peak '(0002)' not found in fitted peaks.\n",
      "WARNING:root:Peak '(110)' not found in fitted peaks.\n",
      "WARNING:root:Peak '(10-11)' not found in fitted peaks.\n",
      "WARNING:root:Peak '(10-12)' not found in fitted peaks.\n",
      "WARNING:root:Peak '(200)' not found in fitted peaks.\n",
      "WARNING:root:Peak '(11-20)' not found in fitted peaks.\n",
      "WARNING:root:Peak '(10-13)' not found in fitted peaks.\n",
      "WARNING:root:Peak '(20-20)' not found in fitted peaks.\n",
      "WARNING:root:Peak '(11-22)' not found in fitted peaks.\n",
      "WARNING:root:Peak '(20-21)' not found in fitted peaks.\n",
      "WARNING:root:Peak '(0004)' not found in fitted peaks.\n",
      "WARNING:root:Peak '(220)' not found in fitted peaks.\n",
      "WARNING:root:Peak '(20-22)' not found in fitted peaks.\n"
     ]
    }
   ],
   "source": [
    "show_points = True\n",
    "experiment.plot_fit_parameter(\"(10-10)\", \"(10-10)_center\", show_points)\n",
    "experiment.plot_fit_parameter(\"(0002)\", \"(0002)_center\", show_points)\n",
    "experiment.plot_fit_parameter(\"(110)\", \"(110)_center\", show_points)\n",
    "experiment.plot_fit_parameter(\"(10-11)\", \"(10-11)_center\", show_points)\n",
    "experiment.plot_fit_parameter(\"(10-12)\", \"(10-12)_center\", show_points)\n",
    "experiment.plot_fit_parameter(\"(200)\", \"(200)_center\", show_points)\n",
    "experiment.plot_fit_parameter(\"(11-20)\", \"(11-20)_center\", show_points)\n",
    "experiment.plot_fit_parameter(\"(10-13)\", \"(10-13)_center\", show_points)\n",
    "# experiment.plot_fit_parameter(\"(211)\", \"(211)_center\", show_points)\n",
    "experiment.plot_fit_parameter(\"(20-20)\", \"(20-20)_center\", show_points)\n",
    "experiment.plot_fit_parameter(\"(11-22)\", \"(11-22)_center\", show_points)\n",
    "experiment.plot_fit_parameter(\"(20-21)\", \"(20-21)_center\", show_points)\n",
    "experiment.plot_fit_parameter(\"(0004)\", \"(0004)_center\", show_points)\n",
    "experiment.plot_fit_parameter(\"(220)\", \"(220)_center\", show_points)\n",
    "experiment.plot_fit_parameter(\"(20-22)\", \"(20-22)_center\", show_points)"
   ]
  },
  {
   "cell_type": "code",
   "execution_count": null,
   "metadata": {},
   "outputs": [],
   "source": [
    "experiment.save(\"../example_analysis/experiment_fits/065_xrdfit.dump\")"
   ]
  },
  {
   "cell_type": "markdown",
   "metadata": {},
   "source": [
    "## Run multiple refinements"
   ]
  },
  {
   "cell_type": "code",
   "execution_count": 19,
   "metadata": {},
   "outputs": [
    {
     "name": "stdout",
     "output_type": "stream",
     "text": [
      "../yaml/._ideal_file_type.yaml\n",
      "../yaml/adc_065_TI64_NDload_900C_15mms_00001_params.yaml\n",
      "../yaml/ideal_file_type.yaml\n",
      "../yaml/._adc_065_TI64_NDload_900C_15mms_00001_params.yaml\n"
     ]
    }
   ],
   "source": [
    "param_list = pathlib.Path(\"../yaml/\").glob(\"*.yaml\")\n",
    "\n",
    "for experiment_params in param_list:\n",
    "    print(experiment_params)"
   ]
  },
  {
   "cell_type": "code",
   "execution_count": null,
   "metadata": {},
   "outputs": [],
   "source": []
  }
 ],
 "metadata": {
  "kernelspec": {
   "display_name": "Python 3 (ipykernel)",
   "language": "python",
   "name": "python3"
  },
  "language_info": {
   "codemirror_mode": {
    "name": "ipython",
    "version": 3
   },
   "file_extension": ".py",
   "mimetype": "text/x-python",
   "name": "python",
   "nbconvert_exporter": "python",
   "pygments_lexer": "ipython3",
   "version": "3.7.3"
  }
 },
 "nbformat": 4,
 "nbformat_minor": 4
}
