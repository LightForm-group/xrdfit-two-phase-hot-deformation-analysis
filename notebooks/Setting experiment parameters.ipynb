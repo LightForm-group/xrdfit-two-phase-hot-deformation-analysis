{
 "cells": [
  {
   "cell_type": "markdown",
   "metadata": {},
   "source": [
    "This notebook is intended to set the intial peak parameters.\n",
    "\n",
    "## Imports"
   ]
  },
  {
   "cell_type": "code",
   "execution_count": null,
   "metadata": {
    "scrolled": false
   },
   "outputs": [],
   "source": [
    "import pathlib\n",
    "\n",
    "from xrdfit.spectrum_fitting import PeakParams, FitSpectrum\n",
    "import yaml\n",
    "\n",
    "import analysis_functions as analysis\n",
    "\n",
    "\n",
    "%load_ext autoreload\n",
    "%autoreload 2"
   ]
  },
  {
   "cell_type": "markdown",
   "metadata": {},
   "source": [
    "# Find data files\n",
    "Rather than type in the full name of each file, it is easier to glob the files and then go through the list."
   ]
  },
  {
   "cell_type": "code",
   "execution_count": null,
   "metadata": {},
   "outputs": [],
   "source": [
    "data_folder = pathlib.Path(\"../example_data/caked\")\n",
    "files = list(data_folder.glob(\"*.dat\"))"
   ]
  },
  {
   "cell_type": "markdown",
   "metadata": {},
   "source": [
    "## Initial fit"
   ]
  },
  {
   "cell_type": "markdown",
   "metadata": {},
   "source": [
    "Specify the name of the file to be analysed and give the angle of the first cake:"
   ]
  },
  {
   "cell_type": "code",
   "execution_count": null,
   "metadata": {},
   "outputs": [],
   "source": [
    "file_path = files[0]\n",
    "first_cake_angle = 90"
   ]
  },
  {
   "cell_type": "markdown",
   "metadata": {},
   "source": [
    "Load the data:"
   ]
  },
  {
   "cell_type": "code",
   "execution_count": null,
   "metadata": {
    "scrolled": true
   },
   "outputs": [],
   "source": [
    "spectral_data = FitSpectrum(file_path, first_cake_angle)\n",
    "spectral_data.plot_polar()"
   ]
  },
  {
   "cell_type": "markdown",
   "metadata": {},
   "source": [
    "Choose the cakes to fit:"
   ]
  },
  {
   "cell_type": "code",
   "execution_count": null,
   "metadata": {
    "scrolled": true
   },
   "outputs": [],
   "source": [
    "cakes_to_fit = [27, 28, 29, 9, 10, 11]\n",
    "spectral_data.highlight_cakes(cakes_to_fit)"
   ]
  },
  {
   "cell_type": "markdown",
   "metadata": {},
   "source": [
    "Plot the spectra:"
   ]
  },
  {
   "cell_type": "code",
   "execution_count": null,
   "metadata": {
    "scrolled": true
   },
   "outputs": [],
   "source": [
    "spectral_data.plot(cakes_to_fit, x_range=(3.02, 3.5), show_points=True)"
   ]
  },
  {
   "cell_type": "markdown",
   "metadata": {},
   "source": [
    "Set the peak parameters:"
   ]
  },
  {
   "cell_type": "code",
   "execution_count": null,
   "metadata": {},
   "outputs": [],
   "source": [
    "peak_params = [PeakParams((2.75, 2.95), '110'),\n",
    "               PeakParams((3.02, 3.32), ['200', '10-10', '10-11'], [(3.09, 3.12), (3.19, 3.22), (3.24, 3.26)]),\n",
    "               PeakParams((4.13, 4.30), '210')]"
   ]
  },
  {
   "cell_type": "markdown",
   "metadata": {},
   "source": [
    "Check the peak parameters are good"
   ]
  },
  {
   "cell_type": "code",
   "execution_count": null,
   "metadata": {},
   "outputs": [],
   "source": [
    "spectral_data.plot_peak_params(peak_params, cakes_to_fit, show_points=True)\n",
    "spectral_data.fit_peaks(peak_params, cakes_to_fit, merge_cakes=False)\n",
    "\n",
    "spectral_data.plot_fit('110')\n",
    "spectral_data.plot_fit('200')\n",
    "spectral_data.plot_fit('210')"
   ]
  },
  {
   "cell_type": "markdown",
   "metadata": {},
   "source": [
    "## Check instrument data"
   ]
  },
  {
   "cell_type": "markdown",
   "metadata": {},
   "source": [
    "The `plot_instrument_data` function in `analysis_functions` can be used to load and plot the instrument data (ETMT analogue output) recorded with each of the diffraction pattern images.\n",
    "\n",
    "Define a range covering the deformation (in steps of 100 ending with 1) and plot the instrument data:"
   ]
  },
  {
   "cell_type": "code",
   "execution_count": null,
   "metadata": {},
   "outputs": [],
   "source": [
    "# define the file path to the instrument data \n",
    "file_path_instrument_data = \"../example_data/image_load_files_for_DAWN/adc_065_TI64_NDload_900C_15mms.dat\"\n",
    "\n",
    "# set the range covering deformation\n",
    "start_deform = 3101\n",
    "end_deform = 3401\n",
    "\n",
    "# the calculated max_frame will be used as the last step in a refinement\n",
    "max_frame = analysis.plot_instrument_data(file_path_instrument_data, start_deform, end_deform)"
   ]
  },
  {
   "cell_type": "markdown",
   "metadata": {},
   "source": [
    "# Save parameters to be used in the analysis"
   ]
  },
  {
   "cell_type": "code",
   "execution_count": null,
   "metadata": {},
   "outputs": [],
   "source": [
    "params = {\"data_file\": str(file_path),\n",
    "          \"first_cake_angle\": first_cake_angle,\n",
    "          \"cakes_to_fit\": cakes_to_fit, \n",
    "          \"peak_params\": peak_params,\n",
    "          \"frame_time\": 0.1,\n",
    "          \"merge_cakes\": False,\n",
    "          \"start_deform\": start_deform,\n",
    "          \"end_deform\": end_deform,\n",
    "          \"max_frame\": max_frame\n",
    "         }\n",
    "\n",
    "data_folder = f\"../analysis/{file_path.stem}_params.yaml\"\n",
    "with open(data_folder, \"w\") as output_file:\n",
    "    yaml.dump(params, output_file)"
   ]
  }
 ],
 "metadata": {
  "kernelspec": {
   "display_name": "Python 3",
   "language": "python",
   "name": "python3"
  },
  "language_info": {
   "codemirror_mode": {
    "name": "ipython",
    "version": 3
   },
   "file_extension": ".py",
   "mimetype": "text/x-python",
   "name": "python",
   "nbconvert_exporter": "python",
   "pygments_lexer": "ipython3",
   "version": "3.8.2"
  }
 },
 "nbformat": 4,
 "nbformat_minor": 4
}
