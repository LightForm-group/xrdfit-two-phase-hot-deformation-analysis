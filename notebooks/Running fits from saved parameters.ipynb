{
 "cells": [
  {
   "cell_type": "markdown",
   "metadata": {},
   "source": [
    "This notebook reads in peak parameters from a file and runs an experiment.\n",
    "\n",
    "## Imports"
   ]
  },
  {
   "cell_type": "code",
   "execution_count": null,
   "metadata": {
    "scrolled": false
   },
   "outputs": [],
   "source": [
    "import pathlib\n",
    "\n",
    "from xrdfit.spectrum_fitting import PeakParams, FitExperiment\n",
    "import yaml"
   ]
  },
  {
   "cell_type": "markdown",
   "metadata": {},
   "source": [
    "## Run a refinement"
   ]
  },
  {
   "cell_type": "markdown",
   "metadata": {},
   "source": [
    "User inputs:"
   ]
  },
  {
   "cell_type": "code",
   "execution_count": null,
   "metadata": {},
   "outputs": [],
   "source": [
    "param_list = pathlib.Path(\"../analysis/\").glob(\"*.yaml\")\n",
    "\n",
    "for experiment_params in param_list:\n",
    "    with open(experiment_params) as input_file:\n",
    "        params = yaml.load(input_file, Loader=yaml.Loader)\n",
    "        \n",
    "    # define which frames to fit\n",
    "    initial_steps = list(range(1, params[\"start_deform\"], 50))\n",
    "    deform_steps = list(range(params[\"start_deform\"], params[\"end_deform\"], 1))\n",
    "    end_steps = list(range(params[\"end_deform\"], params[\"max_frame\"], 50))\n",
    "    frames_to_fit = initial_steps + deform_steps + end_steps\n",
    "    \n",
    "    experiment = FitExperiment(params[\"frame_time\"], params[\"data_file\"], params[\"first_cake_angle\"], \n",
    "                               params[\"cakes_to_fit\"], params[\"peak_params\"], params[\"merge_cakes\"], frames_to_fit)\n",
    "    # reuse fits for multiple peaks\n",
    "    experiment.run_analysis(reuse_fits=True)\n",
    "    \n",
    "    # Do science here (probably put it in functions though rather than making this loop realy long.).\n",
    "    print(experiment.peak_names())"
   ]
  }
 ],
 "metadata": {
  "kernelspec": {
   "display_name": "Python 3",
   "language": "python",
   "name": "python3"
  },
  "language_info": {
   "codemirror_mode": {
    "name": "ipython",
    "version": 3
   },
   "file_extension": ".py",
   "mimetype": "text/x-python",
   "name": "python",
   "nbconvert_exporter": "python",
   "pygments_lexer": "ipython3",
   "version": "3.8.2"
  }
 },
 "nbformat": 4,
 "nbformat_minor": 4
}
